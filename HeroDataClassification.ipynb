{
  "nbformat": 4,
  "nbformat_minor": 0,
  "metadata": {
    "colab": {
      "provenance": [],
      "authorship_tag": "ABX9TyM4/39vmIV3PqxML1P7eWKZ",
      "include_colab_link": true
    },
    "kernelspec": {
      "name": "python3",
      "display_name": "Python 3"
    },
    "language_info": {
      "name": "python"
    }
  },
  "cells": [
    {
      "cell_type": "markdown",
      "metadata": {
        "id": "view-in-github",
        "colab_type": "text"
      },
      "source": [
        "<a href=\"https://colab.research.google.com/github/oktaviacitra/ai-course-in-graduate-school/blob/main/HeroDataClassification.ipynb\" target=\"_parent\"><img src=\"https://colab.research.google.com/assets/colab-badge.svg\" alt=\"Open In Colab\"/></a>"
      ]
    },
    {
      "cell_type": "code",
      "source": [
        "from google.colab import drive\n",
        "\n",
        "origin_path = \"/content/drive\"\n",
        "drive.mount(origin_path)\n",
        "folder_path = origin_path + \"/MyDrive/Learning Journey/Heroes/\""
      ],
      "metadata": {
        "colab": {
          "base_uri": "https://localhost:8080/"
        },
        "id": "pVC83bTyqRut",
        "outputId": "73f671e1-16d1-4d04-d910-1329e1f9fdd7"
      },
      "execution_count": 1,
      "outputs": [
        {
          "output_type": "stream",
          "name": "stdout",
          "text": [
            "Mounted at /content/drive\n"
          ]
        }
      ]
    },
    {
      "cell_type": "code",
      "source": [
        "import pandas as pd\n",
        "\n",
        "train_dataframe = pd.read_csv(folder_path + 'train.csv')\n",
        "validation_dataframe = pd.read_csv(folder_path + 'val.csv')\n",
        "correlation_matrix = train_dataframe.corr()\n",
        "correlation_matrix.head(3)"
      ],
      "metadata": {
        "colab": {
          "base_uri": "https://localhost:8080/",
          "height": 238
        },
        "id": "bLLSROGOqnM3",
        "outputId": "f1a717da-fb1d-49d2-8832-2b5f3ac0b2ce"
      },
      "execution_count": 2,
      "outputs": [
        {
          "output_type": "execute_result",
          "data": {
            "text/plain": [
              "               type   baseStr  strGrowth    maxStr   baseAgi  agiGrowth  \\\n",
              "type       1.000000 -0.542666  -0.542322 -0.581514 -0.038086  -0.123072   \n",
              "baseStr   -0.542666  1.000000   0.590398  0.719891 -0.332447  -0.287354   \n",
              "strGrowth -0.542322  0.590398   1.000000  0.985228 -0.393197  -0.195093   \n",
              "\n",
              "             maxAgi   baseInt  intGrowth    maxInt  ...  moveSpeed  baseArmor  \\\n",
              "type      -0.110488  0.688410   0.657814  0.699666  ...   0.067136  -0.113657   \n",
              "baseStr   -0.313907 -0.325844  -0.347587 -0.361478  ...  -0.102263   0.076320   \n",
              "strGrowth -0.251592 -0.385914  -0.447942 -0.458466  ...  -0.140072   0.148638   \n",
              "\n",
              "             minDmg    maxDmg     range  baseAttackTime  attackPoint  \\\n",
              "type      -0.384719 -0.312799  0.687704       -0.297982    -0.106053   \n",
              "baseStr    0.572878  0.500122 -0.609325        0.339076     0.057356   \n",
              "strGrowth  0.426568  0.399803 -0.532825        0.346775     0.093581   \n",
              "\n",
              "           attackBackswing  turnRate  regeneration  \n",
              "type              0.011558 -0.034759     -0.090677  \n",
              "baseStr           0.079210  0.056517      0.120792  \n",
              "strGrowth        -0.005744  0.012029      0.138714  \n",
              "\n",
              "[3 rows x 23 columns]"
            ],
            "text/html": [
              "\n",
              "  <div id=\"df-2d58895e-8271-4e88-a0de-ea1caa4f0471\">\n",
              "    <div class=\"colab-df-container\">\n",
              "      <div>\n",
              "<style scoped>\n",
              "    .dataframe tbody tr th:only-of-type {\n",
              "        vertical-align: middle;\n",
              "    }\n",
              "\n",
              "    .dataframe tbody tr th {\n",
              "        vertical-align: top;\n",
              "    }\n",
              "\n",
              "    .dataframe thead th {\n",
              "        text-align: right;\n",
              "    }\n",
              "</style>\n",
              "<table border=\"1\" class=\"dataframe\">\n",
              "  <thead>\n",
              "    <tr style=\"text-align: right;\">\n",
              "      <th></th>\n",
              "      <th>type</th>\n",
              "      <th>baseStr</th>\n",
              "      <th>strGrowth</th>\n",
              "      <th>maxStr</th>\n",
              "      <th>baseAgi</th>\n",
              "      <th>agiGrowth</th>\n",
              "      <th>maxAgi</th>\n",
              "      <th>baseInt</th>\n",
              "      <th>intGrowth</th>\n",
              "      <th>maxInt</th>\n",
              "      <th>...</th>\n",
              "      <th>moveSpeed</th>\n",
              "      <th>baseArmor</th>\n",
              "      <th>minDmg</th>\n",
              "      <th>maxDmg</th>\n",
              "      <th>range</th>\n",
              "      <th>baseAttackTime</th>\n",
              "      <th>attackPoint</th>\n",
              "      <th>attackBackswing</th>\n",
              "      <th>turnRate</th>\n",
              "      <th>regeneration</th>\n",
              "    </tr>\n",
              "  </thead>\n",
              "  <tbody>\n",
              "    <tr>\n",
              "      <th>type</th>\n",
              "      <td>1.000000</td>\n",
              "      <td>-0.542666</td>\n",
              "      <td>-0.542322</td>\n",
              "      <td>-0.581514</td>\n",
              "      <td>-0.038086</td>\n",
              "      <td>-0.123072</td>\n",
              "      <td>-0.110488</td>\n",
              "      <td>0.688410</td>\n",
              "      <td>0.657814</td>\n",
              "      <td>0.699666</td>\n",
              "      <td>...</td>\n",
              "      <td>0.067136</td>\n",
              "      <td>-0.113657</td>\n",
              "      <td>-0.384719</td>\n",
              "      <td>-0.312799</td>\n",
              "      <td>0.687704</td>\n",
              "      <td>-0.297982</td>\n",
              "      <td>-0.106053</td>\n",
              "      <td>0.011558</td>\n",
              "      <td>-0.034759</td>\n",
              "      <td>-0.090677</td>\n",
              "    </tr>\n",
              "    <tr>\n",
              "      <th>baseStr</th>\n",
              "      <td>-0.542666</td>\n",
              "      <td>1.000000</td>\n",
              "      <td>0.590398</td>\n",
              "      <td>0.719891</td>\n",
              "      <td>-0.332447</td>\n",
              "      <td>-0.287354</td>\n",
              "      <td>-0.313907</td>\n",
              "      <td>-0.325844</td>\n",
              "      <td>-0.347587</td>\n",
              "      <td>-0.361478</td>\n",
              "      <td>...</td>\n",
              "      <td>-0.102263</td>\n",
              "      <td>0.076320</td>\n",
              "      <td>0.572878</td>\n",
              "      <td>0.500122</td>\n",
              "      <td>-0.609325</td>\n",
              "      <td>0.339076</td>\n",
              "      <td>0.057356</td>\n",
              "      <td>0.079210</td>\n",
              "      <td>0.056517</td>\n",
              "      <td>0.120792</td>\n",
              "    </tr>\n",
              "    <tr>\n",
              "      <th>strGrowth</th>\n",
              "      <td>-0.542322</td>\n",
              "      <td>0.590398</td>\n",
              "      <td>1.000000</td>\n",
              "      <td>0.985228</td>\n",
              "      <td>-0.393197</td>\n",
              "      <td>-0.195093</td>\n",
              "      <td>-0.251592</td>\n",
              "      <td>-0.385914</td>\n",
              "      <td>-0.447942</td>\n",
              "      <td>-0.458466</td>\n",
              "      <td>...</td>\n",
              "      <td>-0.140072</td>\n",
              "      <td>0.148638</td>\n",
              "      <td>0.426568</td>\n",
              "      <td>0.399803</td>\n",
              "      <td>-0.532825</td>\n",
              "      <td>0.346775</td>\n",
              "      <td>0.093581</td>\n",
              "      <td>-0.005744</td>\n",
              "      <td>0.012029</td>\n",
              "      <td>0.138714</td>\n",
              "    </tr>\n",
              "  </tbody>\n",
              "</table>\n",
              "<p>3 rows × 23 columns</p>\n",
              "</div>\n",
              "      <button class=\"colab-df-convert\" onclick=\"convertToInteractive('df-2d58895e-8271-4e88-a0de-ea1caa4f0471')\"\n",
              "              title=\"Convert this dataframe to an interactive table.\"\n",
              "              style=\"display:none;\">\n",
              "        \n",
              "  <svg xmlns=\"http://www.w3.org/2000/svg\" height=\"24px\"viewBox=\"0 0 24 24\"\n",
              "       width=\"24px\">\n",
              "    <path d=\"M0 0h24v24H0V0z\" fill=\"none\"/>\n",
              "    <path d=\"M18.56 5.44l.94 2.06.94-2.06 2.06-.94-2.06-.94-.94-2.06-.94 2.06-2.06.94zm-11 1L8.5 8.5l.94-2.06 2.06-.94-2.06-.94L8.5 2.5l-.94 2.06-2.06.94zm10 10l.94 2.06.94-2.06 2.06-.94-2.06-.94-.94-2.06-.94 2.06-2.06.94z\"/><path d=\"M17.41 7.96l-1.37-1.37c-.4-.4-.92-.59-1.43-.59-.52 0-1.04.2-1.43.59L10.3 9.45l-7.72 7.72c-.78.78-.78 2.05 0 2.83L4 21.41c.39.39.9.59 1.41.59.51 0 1.02-.2 1.41-.59l7.78-7.78 2.81-2.81c.8-.78.8-2.07 0-2.86zM5.41 20L4 18.59l7.72-7.72 1.47 1.35L5.41 20z\"/>\n",
              "  </svg>\n",
              "      </button>\n",
              "      \n",
              "  <style>\n",
              "    .colab-df-container {\n",
              "      display:flex;\n",
              "      flex-wrap:wrap;\n",
              "      gap: 12px;\n",
              "    }\n",
              "\n",
              "    .colab-df-convert {\n",
              "      background-color: #E8F0FE;\n",
              "      border: none;\n",
              "      border-radius: 50%;\n",
              "      cursor: pointer;\n",
              "      display: none;\n",
              "      fill: #1967D2;\n",
              "      height: 32px;\n",
              "      padding: 0 0 0 0;\n",
              "      width: 32px;\n",
              "    }\n",
              "\n",
              "    .colab-df-convert:hover {\n",
              "      background-color: #E2EBFA;\n",
              "      box-shadow: 0px 1px 2px rgba(60, 64, 67, 0.3), 0px 1px 3px 1px rgba(60, 64, 67, 0.15);\n",
              "      fill: #174EA6;\n",
              "    }\n",
              "\n",
              "    [theme=dark] .colab-df-convert {\n",
              "      background-color: #3B4455;\n",
              "      fill: #D2E3FC;\n",
              "    }\n",
              "\n",
              "    [theme=dark] .colab-df-convert:hover {\n",
              "      background-color: #434B5C;\n",
              "      box-shadow: 0px 1px 3px 1px rgba(0, 0, 0, 0.15);\n",
              "      filter: drop-shadow(0px 1px 2px rgba(0, 0, 0, 0.3));\n",
              "      fill: #FFFFFF;\n",
              "    }\n",
              "  </style>\n",
              "\n",
              "      <script>\n",
              "        const buttonEl =\n",
              "          document.querySelector('#df-2d58895e-8271-4e88-a0de-ea1caa4f0471 button.colab-df-convert');\n",
              "        buttonEl.style.display =\n",
              "          google.colab.kernel.accessAllowed ? 'block' : 'none';\n",
              "\n",
              "        async function convertToInteractive(key) {\n",
              "          const element = document.querySelector('#df-2d58895e-8271-4e88-a0de-ea1caa4f0471');\n",
              "          const dataTable =\n",
              "            await google.colab.kernel.invokeFunction('convertToInteractive',\n",
              "                                                     [key], {});\n",
              "          if (!dataTable) return;\n",
              "\n",
              "          const docLinkHtml = 'Like what you see? Visit the ' +\n",
              "            '<a target=\"_blank\" href=https://colab.research.google.com/notebooks/data_table.ipynb>data table notebook</a>'\n",
              "            + ' to learn more about interactive tables.';\n",
              "          element.innerHTML = '';\n",
              "          dataTable['output_type'] = 'display_data';\n",
              "          await google.colab.output.renderOutput(dataTable, element);\n",
              "          const docLink = document.createElement('div');\n",
              "          docLink.innerHTML = docLinkHtml;\n",
              "          element.appendChild(docLink);\n",
              "        }\n",
              "      </script>\n",
              "    </div>\n",
              "  </div>\n",
              "  "
            ]
          },
          "metadata": {},
          "execution_count": 2
        }
      ]
    },
    {
      "cell_type": "code",
      "source": [
        "class Correlation:\n",
        "  def __init__(self, id, value, different):\n",
        "    self.id = id\n",
        "    self.value = value\n",
        "    self.different = different\n",
        "\n",
        "correlations = [Correlation(id, value, abs(0 - value)) for id, value in enumerate(correlation_matrix['type'].to_list()) ]\n",
        "correlations.sort(key = lambda c: c.different)\n",
        "dropped_columns = [correlation.id for correlation in correlations if correlation.different < 0.1]\n",
        "dropped_columns.append(0)\n",
        "len(dropped_columns)"
      ],
      "metadata": {
        "colab": {
          "base_uri": "https://localhost:8080/"
        },
        "id": "HBAsMha0yjkL",
        "outputId": "b81fac35-929e-4654-ff03-9c2b1723bebf"
      },
      "execution_count": 3,
      "outputs": [
        {
          "output_type": "execute_result",
          "data": {
            "text/plain": [
              "7"
            ]
          },
          "metadata": {},
          "execution_count": 3
        }
      ]
    },
    {
      "cell_type": "code",
      "source": [
        "import tensorflow as tf\n",
        "from keras.utils.np_utils import to_categorical\n",
        "\n",
        "train_dataframe.drop(train_dataframe.columns[dropped_columns], axis=1, inplace=True)\n",
        "validation_dataframe.drop(validation_dataframe.columns[dropped_columns], axis=1, inplace=True)\n",
        "\n",
        "train_data = train_dataframe.values\n",
        "val_data = validation_dataframe.values\n",
        "\n",
        "X_train = train_data[:,1:]\n",
        "X_val = val_data[:,1:]\n",
        "\n",
        "y_train = to_categorical(train_data[:,0])\n",
        "y_val = to_categorical(val_data[:,0])\n",
        "\n",
        "X_train.shape, y_train.shape, X_val.shape, y_val.shape"
      ],
      "metadata": {
        "colab": {
          "base_uri": "https://localhost:8080/"
        },
        "id": "bYOBOgJF38oD",
        "outputId": "a8857706-a170-419c-e07f-3cd97792270b"
      },
      "execution_count": 4,
      "outputs": [
        {
          "output_type": "execute_result",
          "data": {
            "text/plain": [
              "((99, 16), (99, 3), (16, 16), (16, 3))"
            ]
          },
          "metadata": {},
          "execution_count": 4
        }
      ]
    },
    {
      "cell_type": "code",
      "source": [
        "!pip install -q -U keras-tuner"
      ],
      "metadata": {
        "colab": {
          "base_uri": "https://localhost:8080/"
        },
        "id": "n1oWRekw8W-F",
        "outputId": "0c6f8fde-bcc6-4d0b-e345-d7f92e402770"
      },
      "execution_count": 5,
      "outputs": [
        {
          "output_type": "stream",
          "name": "stdout",
          "text": [
            "\u001b[K     |████████████████████████████████| 135 kB 5.2 MB/s \n",
            "\u001b[K     |████████████████████████████████| 1.6 MB 60.3 MB/s \n",
            "\u001b[?25h"
          ]
        }
      ]
    },
    {
      "cell_type": "code",
      "source": [
        "from keras.models import Model, Sequential\n",
        "from keras.layers import Input, Dense\n",
        "from keras.optimizers import SGD, Adam\n",
        "\n",
        "def model_builder(hp):\n",
        "  inputs = Input(shape=(16,))\n",
        "  activation = 'sigmoid' if hp.Choice('activation', ['sigmoid', 'relu']) == 'sigmoid' else 'relu'\n",
        "  hidden_layer = Dense(16, activation=activation, name='hidden_layer')(inputs)\n",
        "  outputs = Dense(3, activation='softmax', name='prediction')(hidden_layer)\n",
        "  model = Model(inputs=inputs, outputs=outputs)\n",
        "\n",
        "  learning_rate = hp.Choice('learning_rate', values=[1e-1, 1e-2, 1e-3])\n",
        "  optimizer = Adam(learning_rate=learning_rate) if hp.Choice('optimizer', ['adam', 'sgd']) == 'adam' else SGD(learning_rate=learning_rate)\n",
        "  \n",
        "  model.compile(optimizer=optimizer,\n",
        "                loss='categorical_crossentropy',\n",
        "                metrics=['accuracy'])\n",
        "\n",
        "  return model"
      ],
      "metadata": {
        "id": "U28UuSeu7jKD"
      },
      "execution_count": 6,
      "outputs": []
    },
    {
      "cell_type": "code",
      "source": [
        "import keras_tuner as kt\n",
        "\n",
        "tuner = kt.Hyperband(hypermodel = model_builder,\n",
        "                             objective = 'val_loss',\n",
        "                             max_epochs = 10,\n",
        "                             factor = 3,\n",
        "                             directory = '/content/drive/MyDrive/Learning Journey/Heroes/results_dir',\n",
        "                             project_name = 'heroes')\n",
        "tuner.search_space_summary()"
      ],
      "metadata": {
        "colab": {
          "base_uri": "https://localhost:8080/"
        },
        "id": "2sEoRetn9_Yq",
        "outputId": "adbf85e8-47d9-445f-e084-6f3ddba042a6"
      },
      "execution_count": 7,
      "outputs": [
        {
          "output_type": "stream",
          "name": "stdout",
          "text": [
            "Search space summary\n",
            "Default search space size: 3\n",
            "activation (Choice)\n",
            "{'default': 'sigmoid', 'conditions': [], 'values': ['sigmoid', 'relu'], 'ordered': False}\n",
            "learning_rate (Choice)\n",
            "{'default': 0.1, 'conditions': [], 'values': [0.1, 0.01, 0.001], 'ordered': True}\n",
            "optimizer (Choice)\n",
            "{'default': 'adam', 'conditions': [], 'values': ['adam', 'sgd'], 'ordered': False}\n"
          ]
        }
      ]
    },
    {
      "cell_type": "code",
      "source": [
        "from keras.callbacks import EarlyStopping, ModelCheckpoint\n",
        "\n",
        "best_weight = ModelCheckpoint(folder_path + \"tuner{epoch:02d}-{val_loss:.4f}.h5\",\n",
        "                              monitor=\"val_loss\",\n",
        "                              mode=\"min\",\n",
        "                              save_best_only=True,\n",
        "                              verbose=1)\n",
        "stop_early = EarlyStopping(monitor='val_loss', patience=5)\n",
        "\n",
        "tuner.search(X_train, y_train, epochs=5,\n",
        "             validation_data=(X_val, y_val),\n",
        "             callbacks=[stop_early, best_weight])"
      ],
      "metadata": {
        "colab": {
          "base_uri": "https://localhost:8080/"
        },
        "id": "XOXWezka-LGH",
        "outputId": "15c972f2-1020-456f-a02e-244eaa0d0503"
      },
      "execution_count": 8,
      "outputs": [
        {
          "output_type": "stream",
          "name": "stdout",
          "text": [
            "Trial 18 Complete [00h 00m 01s]\n",
            "val_loss: 1.0956822633743286\n",
            "\n",
            "Best val_loss So Far: 0.9721039533615112\n",
            "Total elapsed time: 00h 00m 35s\n"
          ]
        }
      ]
    },
    {
      "cell_type": "code",
      "source": [
        "from keras.callbacks import  ReduceLROnPlateau\n",
        "from keras.models import load_model\n",
        "\n",
        "reduce_lr = ReduceLROnPlateau(\n",
        "    monitor='val_loss', \n",
        "    factor=0.4,   \n",
        "    patience=2, \n",
        "    min_lr=0.001,\n",
        "    verbose=1\n",
        ")\n",
        "best_weight = ModelCheckpoint(folder_path+\"{epoch:02d}-{val_loss:.4f}.h5\",\n",
        "                              monitor=\"val_loss\",\n",
        "                              mode=\"min\",\n",
        "                              save_best_only=True,\n",
        "                              verbose=1)\n",
        "stop_early = EarlyStopping(monitor='val_loss', patience=5)\n",
        "model = load_model(folder_path + \"tuner01-0.9721.h5\")\n",
        "history= model.fit(X_train, y_train,\n",
        "          batch_size=16,\n",
        "          epochs=5000,\n",
        "          verbose=1,\n",
        "          validation_data=(X_val, y_val),\n",
        "          callbacks=[stop_early, best_weight, stop_early])"
      ],
      "metadata": {
        "colab": {
          "base_uri": "https://localhost:8080/"
        },
        "id": "rMrc60nildj_",
        "outputId": "c18b844d-dcb6-4e05-a691-2a9abcca41a7"
      },
      "execution_count": 10,
      "outputs": [
        {
          "output_type": "stream",
          "name": "stdout",
          "text": [
            "Epoch 1/5000\n",
            "1/7 [===>..........................] - ETA: 1s - loss: 0.9730 - accuracy: 0.5625\n",
            "Epoch 1: val_loss improved from inf to 1.00750, saving model to /content/drive/MyDrive/Learning Journey/Heroes/01-1.0075.h5\n",
            "7/7 [==============================] - 0s 31ms/step - loss: 0.9127 - accuracy: 0.5960 - val_loss: 1.0075 - val_accuracy: 0.6250\n",
            "Epoch 2/5000\n",
            "1/7 [===>..........................] - ETA: 0s - loss: 0.8993 - accuracy: 0.6875\n",
            "Epoch 2: val_loss did not improve from 1.00750\n",
            "7/7 [==============================] - 0s 6ms/step - loss: 0.9073 - accuracy: 0.5859 - val_loss: 1.1456 - val_accuracy: 0.5000\n",
            "Epoch 3/5000\n",
            "1/7 [===>..........................] - ETA: 0s - loss: 0.9382 - accuracy: 0.6875\n",
            "Epoch 3: val_loss improved from 1.00750 to 0.98321, saving model to /content/drive/MyDrive/Learning Journey/Heroes/03-0.9832.h5\n",
            "7/7 [==============================] - 0s 9ms/step - loss: 0.9739 - accuracy: 0.4444 - val_loss: 0.9832 - val_accuracy: 0.6250\n",
            "Epoch 4/5000\n",
            "1/7 [===>..........................] - ETA: 0s - loss: 0.9827 - accuracy: 0.3125\n",
            "Epoch 4: val_loss did not improve from 0.98321\n",
            "7/7 [==============================] - 0s 5ms/step - loss: 0.9313 - accuracy: 0.3737 - val_loss: 1.0018 - val_accuracy: 0.6250\n",
            "Epoch 5/5000\n",
            "1/7 [===>..........................] - ETA: 0s - loss: 0.8576 - accuracy: 0.7500\n",
            "Epoch 5: val_loss improved from 0.98321 to 0.96307, saving model to /content/drive/MyDrive/Learning Journey/Heroes/05-0.9631.h5\n",
            "7/7 [==============================] - 0s 10ms/step - loss: 0.9234 - accuracy: 0.5960 - val_loss: 0.9631 - val_accuracy: 0.6250\n",
            "Epoch 6/5000\n",
            "1/7 [===>..........................] - ETA: 0s - loss: 0.9891 - accuracy: 0.5000\n",
            "Epoch 6: val_loss improved from 0.96307 to 0.94888, saving model to /content/drive/MyDrive/Learning Journey/Heroes/06-0.9489.h5\n",
            "7/7 [==============================] - 0s 8ms/step - loss: 0.8976 - accuracy: 0.5960 - val_loss: 0.9489 - val_accuracy: 0.6250\n",
            "Epoch 7/5000\n",
            "1/7 [===>..........................] - ETA: 0s - loss: 0.9671 - accuracy: 0.5625\n",
            "Epoch 7: val_loss did not improve from 0.94888\n",
            "7/7 [==============================] - 0s 6ms/step - loss: 0.9315 - accuracy: 0.5657 - val_loss: 1.1394 - val_accuracy: 0.3750\n",
            "Epoch 8/5000\n",
            "1/7 [===>..........................] - ETA: 0s - loss: 0.9291 - accuracy: 0.5625\n",
            "Epoch 8: val_loss did not improve from 0.94888\n",
            "7/7 [==============================] - 0s 5ms/step - loss: 1.0115 - accuracy: 0.4444 - val_loss: 1.0936 - val_accuracy: 0.5000\n"
          ]
        }
      ]
    },
    {
      "cell_type": "code",
      "source": [
        "import matplotlib.pyplot as plt\n",
        "\n",
        "def graph_history(title, subtitle, interval):\n",
        "    plt.plot(history.history[title], label = title)\n",
        "    plt.plot(history.history[subtitle], label = subtitle)\n",
        "    plt.xlabel('Epoch')\n",
        "    plt.ylabel(title)\n",
        "    plt.ylim(interval)\n",
        "    plt.legend(loc='lower right')"
      ],
      "metadata": {
        "id": "C07eHsZtpQqt"
      },
      "execution_count": 11,
      "outputs": []
    },
    {
      "cell_type": "code",
      "source": [
        "graph_history('loss', 'val_loss', [0.0, 1.2])"
      ],
      "metadata": {
        "id": "at9_5wPjpZlA",
        "outputId": "be50fee2-4442-4921-a7a9-90b6553b8bc3",
        "colab": {
          "base_uri": "https://localhost:8080/",
          "height": 304
        }
      },
      "execution_count": 14,
      "outputs": [
        {
          "output_type": "display_data",
          "data": {
            "text/plain": [
              "<Figure size 432x288 with 1 Axes>"
            ],
            "image/png": "[encoded data removed]"
          },
          "metadata": {
            "needs_background": "light"
          }
        }
      ]
    },
    {
      "cell_type": "code",
      "source": [
        "graph_history('accuracy', 'val_accuracy', [0.0, 1.0])"
      ],
      "metadata": {
        "id": "rynijnkLplRt",
        "outputId": "a811554d-fc06-4977-c269-1019bd4e26a5",
        "colab": {
          "base_uri": "https://localhost:8080/",
          "height": 304
        }
      },
      "execution_count": 13,
      "outputs": [
        {
          "output_type": "display_data",
          "data": {
            "text/plain": [
              "<Figure size 432x288 with 1 Axes>"
            ],
            "image/png": "[encoded data removed]"
          },
          "metadata": {
            "needs_background": "light"
          }
        }
      ]
    }
  ]
}