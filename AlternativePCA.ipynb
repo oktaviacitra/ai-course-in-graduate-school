{
  "nbformat": 4,
  "nbformat_minor": 0,
  "metadata": {
    "colab": {
      "provenance": [],
      "authorship_tag": "ABX9TyOz7iK3Dh+NffIGv3T/FSfY",
      "include_colab_link": true
    },
    "kernelspec": {
      "name": "python3",
      "display_name": "Python 3"
    },
    "language_info": {
      "name": "python"
    }
  },
  "cells": [
    {
      "cell_type": "markdown",
      "metadata": {
        "id": "view-in-github",
        "colab_type": "text"
      },
      "source": [
        "<a href=\"https://colab.research.google.com/github/oktaviacitra/ai-course-in-graduate-school/blob/main/AlternativePCA.ipynb\" target=\"_parent\"><img src=\"https://colab.research.google.com/assets/colab-badge.svg\" alt=\"Open In Colab\"/></a>"
      ]
    },
    {
      "cell_type": "code",
      "source": [
        "from google.colab import drive\n",
        "\n",
        "origin_path = '/content/drive'\n",
        "drive.mount(origin_path)\n",
        "folder_path = origin_path + '/MyDrive/Learning Journey/AutoEncoder/'"
      ],
      "metadata": {
        "colab": {
          "base_uri": "https://localhost:8080/"
        },
        "id": "31z4KBwAjgXy",
        "outputId": "e986504c-eeea-4d75-910c-081a8d55bf33"
      },
      "execution_count": 5,
      "outputs": [
        {
          "output_type": "stream",
          "name": "stdout",
          "text": [
            "Mounted at /content/drive\n"
          ]
        }
      ]
    },
    {
      "cell_type": "code",
      "execution_count": 24,
      "metadata": {
        "colab": {
          "base_uri": "https://localhost:8080/"
        },
        "id": "TFF37aQ7gnnx",
        "outputId": "5e321f30-c85b-4289-d0f2-f961420a1860"
      },
      "outputs": [
        {
          "output_type": "stream",
          "name": "stdout",
          "text": [
            "Epoch 0\n",
            "Loss = 0.112\n",
            "Epoch 1\n",
            "Loss = 0.101\n",
            "Epoch 2\n",
            "Loss = 0.103\n",
            "Epoch 3\n",
            "Loss = 0.099\n",
            "Epoch 4\n",
            "Loss = 0.095\n"
          ]
        }
      ],
      "source": [
        "import random\n",
        "import torch\n",
        "from   torch.autograd import Variable\n",
        "import torch.nn as nn\n",
        "import torch.nn.functional as F\n",
        "import torch.optim as optim\n",
        "import torchvision\n",
        "from   torchvision import datasets, transforms\n",
        "\n",
        "IMAGE_SIZE = 784\n",
        "IMAGE_WIDTH = IMAGE_HEIGHT = 28\n",
        "\n",
        "class AutoEncoder(nn.Module):\n",
        "  def __init__(self, code_size):\n",
        "    super().__init__()\n",
        "    self.code_size = code_size\n",
        "    \n",
        "    # Encoder specification\n",
        "    self.enc_cnn_1 = nn.Conv2d(1, 10, kernel_size=5)\n",
        "    self.enc_cnn_2 = nn.Conv2d(10, 20, kernel_size=5)\n",
        "    self.enc_linear_1 = nn.Linear(4 * 4 * 20, 50)\n",
        "    self.enc_linear_2 = nn.Linear(50, self.code_size)\n",
        "    \n",
        "    # Decoder specification\n",
        "    self.dec_linear_1 = nn.Linear(self.code_size, 160)\n",
        "    self.dec_linear_2 = nn.Linear(160, IMAGE_SIZE)\n",
        "\n",
        "  def forward(self, images):\n",
        "    code = self.encode(images)\n",
        "    out = self.decode(code)\n",
        "    return out, code\n",
        "\n",
        "  def encode(self, images):\n",
        "    code = self.enc_cnn_1(images)\n",
        "    code = F.selu(F.max_pool2d(code, 2))\n",
        "    code = self.enc_cnn_2(code)\n",
        "    code = F.selu(F.max_pool2d(code, 2))\n",
        "    code = code.view(images.size(0), -1)\n",
        "    code = F.selu(self.enc_linear_1(code))\n",
        "    code = self.enc_linear_2(code)\n",
        "    return code\n",
        "\n",
        "  def decode(self, code):\n",
        "    out = F.selu(self.dec_linear_1(code))\n",
        "    out = F.sigmoid(self.dec_linear_2(out))\n",
        "    out = out.view([code.size(0), 1, IMAGE_WIDTH, IMAGE_HEIGHT])\n",
        "    return out\n",
        "\n",
        "# Hyperparameters\n",
        "code_size = 20\n",
        "num_epochs = 5\n",
        "batch_size = 128\n",
        "lr = 0.002\n",
        "optimizer_cls = optim.Adam\n",
        "\n",
        "# Load data\n",
        "train_data = datasets.MNIST('~/data/mnist/', train=True, download=True, transform=transforms.ToTensor())\n",
        "test_data  = datasets.MNIST('~/data/mnist/', train=False, download=True, transform=transforms.ToTensor())\n",
        "train_loader = torch.utils.data.DataLoader(train_data, shuffle=True, batch_size=batch_size, num_workers=4, drop_last=True)\n",
        "\n",
        "# Instantiate model\n",
        "autoencoder = AutoEncoder(code_size)\n",
        "loss_fn = nn.BCELoss()\n",
        "optimizer = optimizer_cls(autoencoder.parameters(), lr=lr)\n",
        "\n",
        "# Training loop\n",
        "for epoch in range(num_epochs):\n",
        "  print(\"Epoch %d\" % epoch)\n",
        "  for i, (images, _) in enumerate(train_loader):\n",
        "    out, code = autoencoder(Variable(images))\n",
        "    optimizer.zero_grad()\n",
        "    loss = loss_fn(out, images)\n",
        "    loss.backward()\n",
        "    optimizer.step()\n",
        "  print(\"Loss = %.3f\" % loss.data)"
      ]
    },
    {
      "cell_type": "code",
      "source": [
        "# Try reconstructing on test data\n",
        "test_image = random.choice(test_data)\n",
        "test_image = Variable(test_image[0].view(1, 1, IMAGE_WIDTH, IMAGE_HEIGHT))\n",
        "test_reconst, _ = autoencoder(test_image)\n",
        "\n",
        "torchvision.utils.save_image(test_image.data, folder_path + 'orig.png')\n",
        "torchvision.utils.save_image(test_reconst.data, folder_path + 'reconst.png')"
      ],
      "metadata": {
        "colab": {
          "base_uri": "https://localhost:8080/"
        },
        "id": "i6hCTdj46kU5",
        "outputId": "e0791580-8842-4209-c2b3-6b15c28cc59d"
      },
      "execution_count": 35,
      "outputs": [
        {
          "output_type": "stream",
          "name": "stderr",
          "text": [
            "/usr/local/lib/python3.7/dist-packages/torch/nn/functional.py:1960: UserWarning: nn.functional.sigmoid is deprecated. Use torch.sigmoid instead.\n",
            "  warnings.warn(\"nn.functional.sigmoid is deprecated. Use torch.sigmoid instead.\")\n"
          ]
        }
      ]
    }
  ]
}